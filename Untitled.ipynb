{
 "cells": [
  {
   "cell_type": "code",
   "execution_count": 2,
   "id": "fbab31c0",
   "metadata": {},
   "outputs": [],
   "source": [
    "import pickle\n",
    "from sklearn.ensemble import HistGradientBoostingClassifier\n",
    "from AdvancedPasswordAnalyzer import AdvancedPasswordAnalyzer\n",
    "import random\n",
    "import string"
   ]
  },
  {
   "cell_type": "code",
   "execution_count": 5,
   "id": "3870642d",
   "metadata": {},
   "outputs": [
    {
     "name": "stdout",
     "output_type": "stream",
     "text": [
      "Generated 64 samples with 17 features each\n",
      "Class distribution: 19 weak, 45 strong\n",
      "Binning 0.000 GB of training data: 0.059 s\n",
      "Fitting gradient boosted rounds:\n",
      "Fit 200 trees in 4.562 s, (400 total leaves)\n",
      "Time spent computing histograms: 0.006s\n",
      "Time spent finding best splits:  0.017s\n",
      "Time spent applying splits:      0.004s\n",
      "Time spent predicting:           0.003s\n",
      "Model saved as mmmodel.pkl\n"
     ]
    }
   ],
   "source": [
    "\n",
    "def generate_random_password(length=16):\n",
    "    chars = string.ascii_letters + string.digits + string.punctuation\n",
    "    return ''.join(random.choice(chars) for _ in range(length))\n",
    "\n",
    "def generate_training_data():\n",
    "    X = []\n",
    "    y = []\n",
    "    \n",
    "    weak_passwords = [\n",
    "        '123456', 'password', 'qwerty', 'abc123', 'letmein',\n",
    "        'iloveyou', 'monkey', 'football', 'admin', 'welcome',\n",
    "        'passw0rd', '12345678', '123123', 'superman'\n",
    "    ]\n",
    "    \n",
    "    strong_passwords = [generate_random_password(16) for _ in range(50)]\n",
    "    \n",
    "    personal_info = [\"john\", \"doe\", \"birthday\", \"company\"]\n",
    "    \n",
    "    all_passwords = weak_passwords + strong_passwords\n",
    "    \n",
    "    for pwd in all_passwords:\n",
    "        analyzer = AdvancedPasswordAnalyzer(pwd, personal_info)\n",
    "        features = analyzer.extract_advanced_features()\n",
    "\n",
    "        total_entropy = features['entropy'] * len(pwd)\n",
    "        \n",
    "        label = 1 if (\n",
    "            total_entropy >= 60 and\n",
    "            features['char_classes_count'] >= 3 and\n",
    "            not features['personal_info_match'] and\n",
    "            not features['common_patterns'] and\n",
    "            not features['repetition_detected'] and\n",
    "            not features['keyboard_pattern']\n",
    "        ) else 0\n",
    "        \n",
    "        processed_features = [int(v) if isinstance(v, bool) else v for v in features.values()]\n",
    "        \n",
    "        X.append(processed_features)\n",
    "        y.append(label)\n",
    "    \n",
    "    return X, y\n",
    "\n",
    "def main():\n",
    "    X, y = generate_training_data()\n",
    "    \n",
    "    print(f\"Generated {len(X)} samples with {len(X[0])} features each\")\n",
    "    print(f\"Class distribution: {y.count(0)} weak, {y.count(1)} strong\")\n",
    "\n",
    "    clf = HistGradientBoostingClassifier(max_iter=200, random_state=42, verbose=1)\n",
    "    clf.fit(X, y)\n",
    "    \n",
    "    with open('mmmodel.pkl', 'wb') as f:\n",
    "        pickle.dump(clf, f, protocol=pickle.HIGHEST_PROTOCOL)\n",
    "\n",
    "    print(\"Model saved as mmmodel.pkl\")\n",
    "\n",
    "if __name__ == \"__main__\":\n",
    "    main()\n"
   ]
  },
  {
   "cell_type": "code",
   "execution_count": null,
   "id": "27d11a29",
   "metadata": {},
   "outputs": [],
   "source": []
  }
 ],
 "metadata": {
  "kernelspec": {
   "display_name": "spacy-env",
   "language": "python",
   "name": "spacy-env"
  },
  "language_info": {
   "codemirror_mode": {
    "name": "ipython",
    "version": 3
   },
   "file_extension": ".py",
   "mimetype": "text/x-python",
   "name": "python",
   "nbconvert_exporter": "python",
   "pygments_lexer": "ipython3",
   "version": "3.13.5"
  }
 },
 "nbformat": 4,
 "nbformat_minor": 5
}
